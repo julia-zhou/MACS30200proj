{
 "cells": [
  {
   "cell_type": "markdown",
   "metadata": {},
   "source": [
    "# Probelm Set 1: Data section\n",
    "\n",
    "This dataset is obtained from the website of Chicago data portal. This information is derived from inspections of restaurants and other food establishments in Chicago from January 1, 2010 to the present (2017/4/15).\n",
    "\n",
    "City of Chicago also used this data to help prioritize the city's food inspection staff to reduce the public's exposure to foodborne illness. It partnered with Allstate’s Quantitative Research & Analytics department to develop a predictive model to help prioritize the city's food inspection staff to reduce the public's exposure to foodborne illness. In this open-source project on github, their model evaluation calculates individualized risk scores for more than ten thousand Chicagoland food establishments.\n",
    "\n",
    "Data is collected by inspections that are performed by staff from the Chicago Department of Public Health’s Food Protection Program using a standardized procedure. The results of the inspection are inputted into a database, then reviewed and approved by a State of Illinois Licensed Environmental Health Practitioner (LEHP). "
   ]
  },
  {
   "cell_type": "markdown",
   "metadata": {},
   "source": []
  },
  {
   "cell_type": "code",
   "execution_count": 168,
   "metadata": {
    "collapsed": true
   },
   "outputs": [],
   "source": [
    "import pandas as pd\n",
    "import numpy\n",
    "import matplotlib.pyplot as plt\n",
    "%matplotlib inline "
   ]
  },
  {
   "cell_type": "code",
   "execution_count": 181,
   "metadata": {
    "collapsed": false
   },
   "outputs": [
    {
     "data": {
      "text/html": [
       "<div>\n",
       "<table border=\"1\" class=\"dataframe\">\n",
       "  <thead>\n",
       "    <tr style=\"text-align: right;\">\n",
       "      <th></th>\n",
       "      <th>Inspection ID</th>\n",
       "      <th>DBA Name</th>\n",
       "      <th>AKA Name</th>\n",
       "      <th>License #</th>\n",
       "      <th>Facility Type</th>\n",
       "      <th>Risk</th>\n",
       "      <th>Address</th>\n",
       "      <th>City</th>\n",
       "      <th>State</th>\n",
       "      <th>Zip</th>\n",
       "      <th>Inspection Date</th>\n",
       "      <th>Inspection Type</th>\n",
       "      <th>Results</th>\n",
       "      <th>Violations</th>\n",
       "      <th>Latitude</th>\n",
       "      <th>Longitude</th>\n",
       "      <th>Location</th>\n",
       "    </tr>\n",
       "  </thead>\n",
       "  <tbody>\n",
       "    <tr>\n",
       "      <th>0</th>\n",
       "      <td>2028365</td>\n",
       "      <td>PHLOUR BAKERY AND CAFE</td>\n",
       "      <td>PHLOUR BAKERY AND CAFE</td>\n",
       "      <td>2522179.0</td>\n",
       "      <td>Bakery</td>\n",
       "      <td>Risk 1 (High)</td>\n",
       "      <td>1138 W BRYN MAWR AVE</td>\n",
       "      <td>CHICAGO</td>\n",
       "      <td>IL</td>\n",
       "      <td>60660.0</td>\n",
       "      <td>04/14/2017</td>\n",
       "      <td>License Re-Inspection</td>\n",
       "      <td>Pass</td>\n",
       "      <td>11. ADEQUATE NUMBER, CONVENIENT, ACCESSIBLE, D...</td>\n",
       "      <td>41.983739</td>\n",
       "      <td>-87.659647</td>\n",
       "      <td>(41.98373915183195, -87.65964672940271)</td>\n",
       "    </tr>\n",
       "    <tr>\n",
       "      <th>1</th>\n",
       "      <td>1959235</td>\n",
       "      <td>WASABI</td>\n",
       "      <td>WASABI RAMEN</td>\n",
       "      <td>2492241.0</td>\n",
       "      <td>Restaurant</td>\n",
       "      <td>Risk 3 (Low)</td>\n",
       "      <td>2101-2115 N MILWAUKEE AVE</td>\n",
       "      <td>CHICAGO</td>\n",
       "      <td>IL</td>\n",
       "      <td>60647.0</td>\n",
       "      <td>04/14/2017</td>\n",
       "      <td>License Re-Inspection</td>\n",
       "      <td>Pass</td>\n",
       "      <td>NaN</td>\n",
       "      <td>41.919522</td>\n",
       "      <td>-87.691587</td>\n",
       "      <td>(41.91952161427481, -87.6915871617949)</td>\n",
       "    </tr>\n",
       "    <tr>\n",
       "      <th>2</th>\n",
       "      <td>1959234</td>\n",
       "      <td>WASABI</td>\n",
       "      <td>WASABI RAMEN</td>\n",
       "      <td>2488598.0</td>\n",
       "      <td>Restaurant</td>\n",
       "      <td>Risk 1 (High)</td>\n",
       "      <td>2101-2115 N MILWAUKEE AVE</td>\n",
       "      <td>CHICAGO</td>\n",
       "      <td>IL</td>\n",
       "      <td>60647.0</td>\n",
       "      <td>04/14/2017</td>\n",
       "      <td>License Re-Inspection</td>\n",
       "      <td>Pass</td>\n",
       "      <td>16. FOOD PROTECTED DURING STORAGE, PREPARATION...</td>\n",
       "      <td>41.919522</td>\n",
       "      <td>-87.691587</td>\n",
       "      <td>(41.91952161427481, -87.6915871617949)</td>\n",
       "    </tr>\n",
       "  </tbody>\n",
       "</table>\n",
       "</div>"
      ],
      "text/plain": [
       "   Inspection ID                DBA Name                AKA Name  License #  \\\n",
       "0        2028365  PHLOUR BAKERY AND CAFE  PHLOUR BAKERY AND CAFE  2522179.0   \n",
       "1        1959235                  WASABI            WASABI RAMEN  2492241.0   \n",
       "2        1959234                  WASABI            WASABI RAMEN  2488598.0   \n",
       "\n",
       "  Facility Type           Risk                     Address     City State  \\\n",
       "0        Bakery  Risk 1 (High)       1138 W BRYN MAWR AVE   CHICAGO    IL   \n",
       "1    Restaurant   Risk 3 (Low)  2101-2115 N MILWAUKEE AVE   CHICAGO    IL   \n",
       "2    Restaurant  Risk 1 (High)  2101-2115 N MILWAUKEE AVE   CHICAGO    IL   \n",
       "\n",
       "       Zip Inspection Date        Inspection Type Results  \\\n",
       "0  60660.0      04/14/2017  License Re-Inspection    Pass   \n",
       "1  60647.0      04/14/2017  License Re-Inspection    Pass   \n",
       "2  60647.0      04/14/2017  License Re-Inspection    Pass   \n",
       "\n",
       "                                          Violations   Latitude  Longitude  \\\n",
       "0  11. ADEQUATE NUMBER, CONVENIENT, ACCESSIBLE, D...  41.983739 -87.659647   \n",
       "1                                                NaN  41.919522 -87.691587   \n",
       "2  16. FOOD PROTECTED DURING STORAGE, PREPARATION...  41.919522 -87.691587   \n",
       "\n",
       "                                  Location  \n",
       "0  (41.98373915183195, -87.65964672940271)  \n",
       "1   (41.91952161427481, -87.6915871617949)  \n",
       "2   (41.91952161427481, -87.6915871617949)  "
      ]
     },
     "execution_count": 181,
     "metadata": {},
     "output_type": "execute_result"
    }
   ],
   "source": [
    "data = pd.read_csv(\"Food_Inspections.csv\")\n",
    "data[:3]"
   ]
  },
  {
   "cell_type": "code",
   "execution_count": 182,
   "metadata": {
    "collapsed": false
   },
   "outputs": [],
   "source": [
    "data_ = data.dropna()"
   ]
  },
  {
   "cell_type": "code",
   "execution_count": 183,
   "metadata": {
    "collapsed": false
   },
   "outputs": [
    {
     "name": "stderr",
     "output_type": "stream",
     "text": [
      "/Library/Frameworks/Python.framework/Versions/3.5/lib/python3.5/site-packages/ipykernel/__main__.py:1: SettingWithCopyWarning: \n",
      "A value is trying to be set on a copy of a slice from a DataFrame.\n",
      "Try using .loc[row_indexer,col_indexer] = value instead\n",
      "\n",
      "See the caveats in the documentation: http://pandas.pydata.org/pandas-docs/stable/indexing.html#indexing-view-versus-copy\n",
      "  if __name__ == '__main__':\n",
      "/Library/Frameworks/Python.framework/Versions/3.5/lib/python3.5/site-packages/ipykernel/__main__.py:2: SettingWithCopyWarning: \n",
      "A value is trying to be set on a copy of a slice from a DataFrame.\n",
      "Try using .loc[row_indexer,col_indexer] = value instead\n",
      "\n",
      "See the caveats in the documentation: http://pandas.pydata.org/pandas-docs/stable/indexing.html#indexing-view-versus-copy\n",
      "  from ipykernel import kernelapp as app\n"
     ]
    }
   ],
   "source": [
    "data_['Risk'] = data_['Risk'].apply(lambda x: int(str(x)[5]))\n",
    "data_['Zip'] = data_['Zip'].apply(lambda x: str(x)[:-2])"
   ]
  },
  {
   "cell_type": "code",
   "execution_count": 184,
   "metadata": {
    "collapsed": false
   },
   "outputs": [
    {
     "data": {
      "text/html": [
       "<div>\n",
       "<table border=\"1\" class=\"dataframe\">\n",
       "  <thead>\n",
       "    <tr style=\"text-align: right;\">\n",
       "      <th></th>\n",
       "      <th>Risk</th>\n",
       "      <th>Latitude</th>\n",
       "      <th>Longitude</th>\n",
       "    </tr>\n",
       "  </thead>\n",
       "  <tbody>\n",
       "    <tr>\n",
       "      <th>count</th>\n",
       "      <td>115239.000000</td>\n",
       "      <td>115239.000000</td>\n",
       "      <td>115239.000000</td>\n",
       "    </tr>\n",
       "    <tr>\n",
       "      <th>mean</th>\n",
       "      <td>1.326391</td>\n",
       "      <td>41.878958</td>\n",
       "      <td>-87.676928</td>\n",
       "    </tr>\n",
       "    <tr>\n",
       "      <th>std</th>\n",
       "      <td>0.586120</td>\n",
       "      <td>0.082133</td>\n",
       "      <td>0.059652</td>\n",
       "    </tr>\n",
       "    <tr>\n",
       "      <th>min</th>\n",
       "      <td>1.000000</td>\n",
       "      <td>41.644670</td>\n",
       "      <td>-87.914428</td>\n",
       "    </tr>\n",
       "    <tr>\n",
       "      <th>25%</th>\n",
       "      <td>1.000000</td>\n",
       "      <td>41.820583</td>\n",
       "      <td>-87.708361</td>\n",
       "    </tr>\n",
       "    <tr>\n",
       "      <th>50%</th>\n",
       "      <td>1.000000</td>\n",
       "      <td>41.890944</td>\n",
       "      <td>-87.667042</td>\n",
       "    </tr>\n",
       "    <tr>\n",
       "      <th>75%</th>\n",
       "      <td>2.000000</td>\n",
       "      <td>41.939486</td>\n",
       "      <td>-87.634649</td>\n",
       "    </tr>\n",
       "    <tr>\n",
       "      <th>max</th>\n",
       "      <td>3.000000</td>\n",
       "      <td>42.021064</td>\n",
       "      <td>-87.525094</td>\n",
       "    </tr>\n",
       "  </tbody>\n",
       "</table>\n",
       "</div>"
      ],
      "text/plain": [
       "                Risk       Latitude      Longitude\n",
       "count  115239.000000  115239.000000  115239.000000\n",
       "mean        1.326391      41.878958     -87.676928\n",
       "std         0.586120       0.082133       0.059652\n",
       "min         1.000000      41.644670     -87.914428\n",
       "25%         1.000000      41.820583     -87.708361\n",
       "50%         1.000000      41.890944     -87.667042\n",
       "75%         2.000000      41.939486     -87.634649\n",
       "max         3.000000      42.021064     -87.525094"
      ]
     },
     "execution_count": 184,
     "metadata": {},
     "output_type": "execute_result"
    }
   ],
   "source": [
    "#table for numerical data\n",
    "data_.iloc[:, [5,14,15]].describe()"
   ]
  },
  {
   "cell_type": "code",
   "execution_count": 185,
   "metadata": {
    "collapsed": false
   },
   "outputs": [
    {
     "data": {
      "text/html": [
       "<div>\n",
       "<table border=\"1\" class=\"dataframe\">\n",
       "  <thead>\n",
       "    <tr style=\"text-align: right;\">\n",
       "      <th></th>\n",
       "      <th>Facility Type</th>\n",
       "      <th>Zip</th>\n",
       "      <th>Inspection Type</th>\n",
       "      <th>Results</th>\n",
       "      <th>Violations</th>\n",
       "    </tr>\n",
       "  </thead>\n",
       "  <tbody>\n",
       "    <tr>\n",
       "      <th>count</th>\n",
       "      <td>115239</td>\n",
       "      <td>115239</td>\n",
       "      <td>115239</td>\n",
       "      <td>115239</td>\n",
       "      <td>115239</td>\n",
       "    </tr>\n",
       "    <tr>\n",
       "      <th>unique</th>\n",
       "      <td>358</td>\n",
       "      <td>60</td>\n",
       "      <td>58</td>\n",
       "      <td>6</td>\n",
       "      <td>114231</td>\n",
       "    </tr>\n",
       "    <tr>\n",
       "      <th>top</th>\n",
       "      <td>Restaurant</td>\n",
       "      <td>60614</td>\n",
       "      <td>Canvass</td>\n",
       "      <td>Pass</td>\n",
       "      <td>18. NO EVIDENCE OF RODENT OR INSECT OUTER OPEN...</td>\n",
       "    </tr>\n",
       "    <tr>\n",
       "      <th>freq</th>\n",
       "      <td>78565</td>\n",
       "      <td>4191</td>\n",
       "      <td>59177</td>\n",
       "      <td>76382</td>\n",
       "      <td>31</td>\n",
       "    </tr>\n",
       "  </tbody>\n",
       "</table>\n",
       "</div>"
      ],
      "text/plain": [
       "       Facility Type     Zip Inspection Type Results  \\\n",
       "count         115239  115239          115239  115239   \n",
       "unique           358      60              58       6   \n",
       "top       Restaurant   60614         Canvass    Pass   \n",
       "freq           78565    4191           59177   76382   \n",
       "\n",
       "                                               Violations  \n",
       "count                                              115239  \n",
       "unique                                             114231  \n",
       "top     18. NO EVIDENCE OF RODENT OR INSECT OUTER OPEN...  \n",
       "freq                                                   31  "
      ]
     },
     "execution_count": 185,
     "metadata": {},
     "output_type": "execute_result"
    }
   ],
   "source": [
    "#table for categorical data\n",
    "data_.iloc[:, [4,9,11,12,13]].describe()"
   ]
  },
  {
   "cell_type": "code",
   "execution_count": 186,
   "metadata": {
    "collapsed": false
   },
   "outputs": [
    {
     "data": {
      "text/plain": [
       "Results\n",
       "Fail                  25022\n",
       "No Entry                261\n",
       "Not Ready                21\n",
       "Out of Business          32\n",
       "Pass                  76382\n",
       "Pass w/ Conditions    13521\n",
       "Name: Inspection ID, dtype: int64"
      ]
     },
     "execution_count": 186,
     "metadata": {},
     "output_type": "execute_result"
    }
   ],
   "source": [
    "data_.groupby(['Results']).count().iloc[:,0]"
   ]
  },
  {
   "cell_type": "code",
   "execution_count": 187,
   "metadata": {
    "collapsed": false
   },
   "outputs": [
    {
     "name": "stderr",
     "output_type": "stream",
     "text": [
      "/Library/Frameworks/Python.framework/Versions/3.5/lib/python3.5/site-packages/ipykernel/__main__.py:10: SettingWithCopyWarning: \n",
      "A value is trying to be set on a copy of a slice from a DataFrame.\n",
      "Try using .loc[row_indexer,col_indexer] = value instead\n",
      "\n",
      "See the caveats in the documentation: http://pandas.pydata.org/pandas-docs/stable/indexing.html#indexing-view-versus-copy\n"
     ]
    }
   ],
   "source": [
    "def score(x):\n",
    "    if x == 'Fail':\n",
    "        return -1\n",
    "    elif x== 'Pass':\n",
    "        return 0.5\n",
    "    elif x == 'Pass w/ Conditions':\n",
    "        return 0.5\n",
    "    else:\n",
    "        return 100\n",
    "data_['Score'] = data_['Results'].apply(lambda x: score(x))\n",
    "data_ = data_[data_['Score'] != 100]"
   ]
  },
  {
   "cell_type": "code",
   "execution_count": 150,
   "metadata": {
    "collapsed": false
   },
   "outputs": [],
   "source": [
    "#data_[:10]"
   ]
  },
  {
   "cell_type": "code",
   "execution_count": 176,
   "metadata": {
    "collapsed": false
   },
   "outputs": [],
   "source": [
    "a = data_.groupby(['Facility Type'])['Risk', 'Score'].mean().reset_index()"
   ]
  },
  {
   "cell_type": "code",
   "execution_count": 207,
   "metadata": {
    "collapsed": false
   },
   "outputs": [
    {
     "data": {
      "text/plain": [
       "['(convenience store)',\n",
       " 'BEVERAGE/SILVERWARE WAREHOUSE',\n",
       " 'CAR WASH',\n",
       " 'CHINESE HERBS',\n",
       " 'CONVENIENCE/GAS STATION',\n",
       " 'CONVNIENCE STORE',\n",
       " 'Convenience Store',\n",
       " 'DOLLAR STORE SELLING GROCERY',\n",
       " 'DRUG/GROCERY STORE',\n",
       " 'Dollar store',\n",
       " 'FOOD PANTRY',\n",
       " 'FROZEN DESSERT PUSHCARTS',\n",
       " 'GAS STATION STORE',\n",
       " 'GAS STATION/ GROCERY STORE',\n",
       " 'GAS STATION/GROCERY',\n",
       " 'GIFT/CARD SHOP WITH CANDY',\n",
       " 'GROCERY/LIQUOR STORE',\n",
       " 'GROCERY/SERVICE GAS STATION',\n",
       " 'GROCERY/TAVERN',\n",
       " 'Gas station',\n",
       " 'HERBAL MEDICINE',\n",
       " 'HERBAL STORE',\n",
       " 'HOOKA BAR',\n",
       " 'MOBILE DESSERTS VENDOR',\n",
       " 'MOBILE FOOD DESSERTS VENDOR',\n",
       " 'MOBILE FROZEN DESSERT VENDOR',\n",
       " 'Mobile Frozen Desserts Vendor',\n",
       " 'Mobile frozen dessert vendor',\n",
       " 'Nutrition Store',\n",
       " 'PREPACKAGE MEAL DISTRIBUTOR (1006 Retail)',\n",
       " 'PUSH CARTS',\n",
       " 'ROOM SERVICE',\n",
       " 'SERVICE BAR/THEATRE',\n",
       " 'SERVICE GAS STATION',\n",
       " 'SUMMER FEEDING',\n",
       " 'TAP room/tavern/liquor store',\n",
       " 'TAVERN/LIQUOR',\n",
       " 'TAVERN/RESTAURANT',\n",
       " 'TEA STORE',\n",
       " 'VFW HALL',\n",
       " 'night club',\n",
       " 'theater',\n",
       " 'video store',\n",
       " 'weight loss program']"
      ]
     },
     "execution_count": 207,
     "metadata": {},
     "output_type": "execute_result"
    }
   ],
   "source": [
    "a = data_.groupby(['Facility Type'])['Risk', 'Score'].mean().sort_values(['Risk', 'Score'], ascending = False).reset_index()\n",
    "#Highest score and lowest risk\n",
    "a.loc[((a['Risk']==3.0) & (a['Score'] == 0.500000))]['Facility Type'].tolist()"
   ]
  },
  {
   "cell_type": "code",
   "execution_count": 209,
   "metadata": {
    "collapsed": false
   },
   "outputs": [
    {
     "data": {
      "text/plain": [
       "['Adult Family Care Center',\n",
       " 'BREWPUB',\n",
       " \"CHILDERN'S SERVICES  FACILITY\",\n",
       " 'DAYCARE 2 YRS TO 12 YRS',\n",
       " 'DINING HALL',\n",
       " 'SOUP KITCHEN',\n",
       " 'KIDS CAFE',\n",
       " 'MAIN KITCHEN',\n",
       " 'NOT FOR PROFIT',\n",
       " 'UNLICENSED FACILITY']"
      ]
     },
     "execution_count": 209,
     "metadata": {},
     "output_type": "execute_result"
    }
   ],
   "source": [
    "#Highest score and lowest risk\n",
    "#a.loc[((a['Risk']==1.0) & (a['Score'] == 0.500000))]\n",
    "#a.iloc[:-10,:]\n",
    "a[-10:]['Facility Type'].tolist()"
   ]
  },
  {
   "cell_type": "code",
   "execution_count": 203,
   "metadata": {
    "collapsed": false
   },
   "outputs": [],
   "source": [
    "ZipDF = data_.groupby(['Zip'])['Risk', 'Score'].mean()"
   ]
  },
  {
   "cell_type": "code",
   "execution_count": 153,
   "metadata": {
    "collapsed": false
   },
   "outputs": [
    {
     "data": {
      "text/html": [
       "<div>\n",
       "<table border=\"1\" class=\"dataframe\">\n",
       "  <thead>\n",
       "    <tr style=\"text-align: right;\">\n",
       "      <th></th>\n",
       "      <th>Risk</th>\n",
       "      <th>Score</th>\n",
       "    </tr>\n",
       "    <tr>\n",
       "      <th>Zip</th>\n",
       "      <th></th>\n",
       "      <th></th>\n",
       "    </tr>\n",
       "  </thead>\n",
       "  <tbody>\n",
       "    <tr>\n",
       "      <th>60501</th>\n",
       "      <td>2.666667</td>\n",
       "      <td>-0.500000</td>\n",
       "    </tr>\n",
       "    <tr>\n",
       "      <th>60601</th>\n",
       "      <td>1.205711</td>\n",
       "      <td>0.296933</td>\n",
       "    </tr>\n",
       "    <tr>\n",
       "      <th>60602</th>\n",
       "      <td>1.265476</td>\n",
       "      <td>0.251786</td>\n",
       "    </tr>\n",
       "    <tr>\n",
       "      <th>60603</th>\n",
       "      <td>1.196737</td>\n",
       "      <td>0.278311</td>\n",
       "    </tr>\n",
       "    <tr>\n",
       "      <th>60604</th>\n",
       "      <td>1.325407</td>\n",
       "      <td>0.306633</td>\n",
       "    </tr>\n",
       "    <tr>\n",
       "      <th>60605</th>\n",
       "      <td>1.251748</td>\n",
       "      <td>0.255245</td>\n",
       "    </tr>\n",
       "    <tr>\n",
       "      <th>60606</th>\n",
       "      <td>1.220696</td>\n",
       "      <td>0.299166</td>\n",
       "    </tr>\n",
       "    <tr>\n",
       "      <th>60607</th>\n",
       "      <td>1.169503</td>\n",
       "      <td>0.174779</td>\n",
       "    </tr>\n",
       "    <tr>\n",
       "      <th>60608</th>\n",
       "      <td>1.375998</td>\n",
       "      <td>0.140884</td>\n",
       "    </tr>\n",
       "    <tr>\n",
       "      <th>60609</th>\n",
       "      <td>1.427146</td>\n",
       "      <td>0.191617</td>\n",
       "    </tr>\n",
       "  </tbody>\n",
       "</table>\n",
       "</div>"
      ],
      "text/plain": [
       "           Risk     Score\n",
       "Zip                      \n",
       "60501  2.666667 -0.500000\n",
       "60601  1.205711  0.296933\n",
       "60602  1.265476  0.251786\n",
       "60603  1.196737  0.278311\n",
       "60604  1.325407  0.306633\n",
       "60605  1.251748  0.255245\n",
       "60606  1.220696  0.299166\n",
       "60607  1.169503  0.174779\n",
       "60608  1.375998  0.140884\n",
       "60609  1.427146  0.191617"
      ]
     },
     "execution_count": 153,
     "metadata": {},
     "output_type": "execute_result"
    }
   ],
   "source": [
    "ZipDF[:10]"
   ]
  },
  {
   "cell_type": "code",
   "execution_count": 204,
   "metadata": {
    "collapsed": false
   },
   "outputs": [],
   "source": [
    "ZipDF.to_csv(\"Zip_risk.csv\")"
   ]
  },
  {
   "cell_type": "code",
   "execution_count": null,
   "metadata": {
    "collapsed": true
   },
   "outputs": [],
   "source": []
  }
 ],
 "metadata": {
  "kernelspec": {
   "display_name": "Python 3",
   "language": "python",
   "name": "python3"
  },
  "language_info": {
   "codemirror_mode": {
    "name": "ipython",
    "version": 3
   },
   "file_extension": ".py",
   "mimetype": "text/x-python",
   "name": "python",
   "nbconvert_exporter": "python",
   "pygments_lexer": "ipython3",
   "version": "3.5.2"
  }
 },
 "nbformat": 4,
 "nbformat_minor": 0
}
