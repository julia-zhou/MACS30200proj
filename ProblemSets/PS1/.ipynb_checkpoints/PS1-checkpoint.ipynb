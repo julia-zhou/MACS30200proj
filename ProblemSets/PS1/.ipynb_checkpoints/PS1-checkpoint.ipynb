{
 "cells": [
  {
   "cell_type": "code",
   "execution_count": 68,
   "metadata": {
    "collapsed": true
   },
   "outputs": [],
   "source": [
    "import pandas as pd\n",
    "import numpy\n",
    "import matplotlib.pyplot as plt\n",
    "%matplotlib inline "
   ]
  },
  {
   "cell_type": "code",
   "execution_count": 106,
   "metadata": {
    "collapsed": false
   },
   "outputs": [
    {
     "data": {
      "text/html": [
       "<div>\n",
       "<table border=\"1\" class=\"dataframe\">\n",
       "  <thead>\n",
       "    <tr style=\"text-align: right;\">\n",
       "      <th></th>\n",
       "      <th>Inspection ID</th>\n",
       "      <th>DBA Name</th>\n",
       "      <th>AKA Name</th>\n",
       "      <th>License #</th>\n",
       "      <th>Facility Type</th>\n",
       "      <th>Risk</th>\n",
       "      <th>Address</th>\n",
       "      <th>City</th>\n",
       "      <th>State</th>\n",
       "      <th>Zip</th>\n",
       "      <th>Inspection Date</th>\n",
       "      <th>Inspection Type</th>\n",
       "      <th>Results</th>\n",
       "      <th>Violations</th>\n",
       "      <th>Latitude</th>\n",
       "      <th>Longitude</th>\n",
       "      <th>Location</th>\n",
       "    </tr>\n",
       "  </thead>\n",
       "  <tbody>\n",
       "    <tr>\n",
       "      <th>0</th>\n",
       "      <td>2028365</td>\n",
       "      <td>PHLOUR BAKERY AND CAFE</td>\n",
       "      <td>PHLOUR BAKERY AND CAFE</td>\n",
       "      <td>2522179.0</td>\n",
       "      <td>Bakery</td>\n",
       "      <td>Risk 1 (High)</td>\n",
       "      <td>1138 W BRYN MAWR AVE</td>\n",
       "      <td>CHICAGO</td>\n",
       "      <td>IL</td>\n",
       "      <td>60660.0</td>\n",
       "      <td>04/14/2017</td>\n",
       "      <td>License Re-Inspection</td>\n",
       "      <td>Pass</td>\n",
       "      <td>11. ADEQUATE NUMBER, CONVENIENT, ACCESSIBLE, D...</td>\n",
       "      <td>41.983739</td>\n",
       "      <td>-87.659647</td>\n",
       "      <td>(41.98373915183195, -87.65964672940271)</td>\n",
       "    </tr>\n",
       "    <tr>\n",
       "      <th>1</th>\n",
       "      <td>1959235</td>\n",
       "      <td>WASABI</td>\n",
       "      <td>WASABI RAMEN</td>\n",
       "      <td>2492241.0</td>\n",
       "      <td>Restaurant</td>\n",
       "      <td>Risk 3 (Low)</td>\n",
       "      <td>2101-2115 N MILWAUKEE AVE</td>\n",
       "      <td>CHICAGO</td>\n",
       "      <td>IL</td>\n",
       "      <td>60647.0</td>\n",
       "      <td>04/14/2017</td>\n",
       "      <td>License Re-Inspection</td>\n",
       "      <td>Pass</td>\n",
       "      <td>NaN</td>\n",
       "      <td>41.919522</td>\n",
       "      <td>-87.691587</td>\n",
       "      <td>(41.91952161427481, -87.6915871617949)</td>\n",
       "    </tr>\n",
       "    <tr>\n",
       "      <th>2</th>\n",
       "      <td>1959234</td>\n",
       "      <td>WASABI</td>\n",
       "      <td>WASABI RAMEN</td>\n",
       "      <td>2488598.0</td>\n",
       "      <td>Restaurant</td>\n",
       "      <td>Risk 1 (High)</td>\n",
       "      <td>2101-2115 N MILWAUKEE AVE</td>\n",
       "      <td>CHICAGO</td>\n",
       "      <td>IL</td>\n",
       "      <td>60647.0</td>\n",
       "      <td>04/14/2017</td>\n",
       "      <td>License Re-Inspection</td>\n",
       "      <td>Pass</td>\n",
       "      <td>16. FOOD PROTECTED DURING STORAGE, PREPARATION...</td>\n",
       "      <td>41.919522</td>\n",
       "      <td>-87.691587</td>\n",
       "      <td>(41.91952161427481, -87.6915871617949)</td>\n",
       "    </tr>\n",
       "  </tbody>\n",
       "</table>\n",
       "</div>"
      ],
      "text/plain": [
       "   Inspection ID                DBA Name                AKA Name  License #  \\\n",
       "0        2028365  PHLOUR BAKERY AND CAFE  PHLOUR BAKERY AND CAFE  2522179.0   \n",
       "1        1959235                  WASABI            WASABI RAMEN  2492241.0   \n",
       "2        1959234                  WASABI            WASABI RAMEN  2488598.0   \n",
       "\n",
       "  Facility Type           Risk                     Address     City State  \\\n",
       "0        Bakery  Risk 1 (High)       1138 W BRYN MAWR AVE   CHICAGO    IL   \n",
       "1    Restaurant   Risk 3 (Low)  2101-2115 N MILWAUKEE AVE   CHICAGO    IL   \n",
       "2    Restaurant  Risk 1 (High)  2101-2115 N MILWAUKEE AVE   CHICAGO    IL   \n",
       "\n",
       "       Zip Inspection Date        Inspection Type Results  \\\n",
       "0  60660.0      04/14/2017  License Re-Inspection    Pass   \n",
       "1  60647.0      04/14/2017  License Re-Inspection    Pass   \n",
       "2  60647.0      04/14/2017  License Re-Inspection    Pass   \n",
       "\n",
       "                                          Violations   Latitude  Longitude  \\\n",
       "0  11. ADEQUATE NUMBER, CONVENIENT, ACCESSIBLE, D...  41.983739 -87.659647   \n",
       "1                                                NaN  41.919522 -87.691587   \n",
       "2  16. FOOD PROTECTED DURING STORAGE, PREPARATION...  41.919522 -87.691587   \n",
       "\n",
       "                                  Location  \n",
       "0  (41.98373915183195, -87.65964672940271)  \n",
       "1   (41.91952161427481, -87.6915871617949)  \n",
       "2   (41.91952161427481, -87.6915871617949)  "
      ]
     },
     "execution_count": 106,
     "metadata": {},
     "output_type": "execute_result"
    }
   ],
   "source": [
    "data = pd.read_csv(\"Food_Inspections.csv\")\n",
    "data[:3]"
   ]
  },
  {
   "cell_type": "code",
   "execution_count": 107,
   "metadata": {
    "collapsed": false
   },
   "outputs": [],
   "source": [
    "data_ = data.dropna()"
   ]
  },
  {
   "cell_type": "code",
   "execution_count": 108,
   "metadata": {
    "collapsed": false
   },
   "outputs": [
    {
     "name": "stderr",
     "output_type": "stream",
     "text": [
      "/Library/Frameworks/Python.framework/Versions/3.5/lib/python3.5/site-packages/ipykernel/__main__.py:1: SettingWithCopyWarning: \n",
      "A value is trying to be set on a copy of a slice from a DataFrame.\n",
      "Try using .loc[row_indexer,col_indexer] = value instead\n",
      "\n",
      "See the caveats in the documentation: http://pandas.pydata.org/pandas-docs/stable/indexing.html#indexing-view-versus-copy\n",
      "  if __name__ == '__main__':\n",
      "/Library/Frameworks/Python.framework/Versions/3.5/lib/python3.5/site-packages/ipykernel/__main__.py:2: SettingWithCopyWarning: \n",
      "A value is trying to be set on a copy of a slice from a DataFrame.\n",
      "Try using .loc[row_indexer,col_indexer] = value instead\n",
      "\n",
      "See the caveats in the documentation: http://pandas.pydata.org/pandas-docs/stable/indexing.html#indexing-view-versus-copy\n",
      "  from ipykernel import kernelapp as app\n"
     ]
    }
   ],
   "source": [
    "data_['Risk'] = data_['Risk'].apply(lambda x: int(str(x)[5]))\n",
    "data_['Zip'] = data_['Zip'].apply(lambda x: str(x)[:-2])"
   ]
  },
  {
   "cell_type": "code",
   "execution_count": 118,
   "metadata": {
    "collapsed": false
   },
   "outputs": [
    {
     "data": {
      "text/html": [
       "<div>\n",
       "<table border=\"1\" class=\"dataframe\">\n",
       "  <thead>\n",
       "    <tr style=\"text-align: right;\">\n",
       "      <th></th>\n",
       "      <th>Risk</th>\n",
       "      <th>Latitude</th>\n",
       "      <th>Longitude</th>\n",
       "    </tr>\n",
       "  </thead>\n",
       "  <tbody>\n",
       "    <tr>\n",
       "      <th>count</th>\n",
       "      <td>115239.000000</td>\n",
       "      <td>115239.000000</td>\n",
       "      <td>115239.000000</td>\n",
       "    </tr>\n",
       "    <tr>\n",
       "      <th>mean</th>\n",
       "      <td>1.326391</td>\n",
       "      <td>41.878958</td>\n",
       "      <td>-87.676928</td>\n",
       "    </tr>\n",
       "    <tr>\n",
       "      <th>std</th>\n",
       "      <td>0.586120</td>\n",
       "      <td>0.082133</td>\n",
       "      <td>0.059652</td>\n",
       "    </tr>\n",
       "    <tr>\n",
       "      <th>min</th>\n",
       "      <td>1.000000</td>\n",
       "      <td>41.644670</td>\n",
       "      <td>-87.914428</td>\n",
       "    </tr>\n",
       "    <tr>\n",
       "      <th>25%</th>\n",
       "      <td>1.000000</td>\n",
       "      <td>41.820583</td>\n",
       "      <td>-87.708361</td>\n",
       "    </tr>\n",
       "    <tr>\n",
       "      <th>50%</th>\n",
       "      <td>1.000000</td>\n",
       "      <td>41.890944</td>\n",
       "      <td>-87.667042</td>\n",
       "    </tr>\n",
       "    <tr>\n",
       "      <th>75%</th>\n",
       "      <td>2.000000</td>\n",
       "      <td>41.939486</td>\n",
       "      <td>-87.634649</td>\n",
       "    </tr>\n",
       "    <tr>\n",
       "      <th>max</th>\n",
       "      <td>3.000000</td>\n",
       "      <td>42.021064</td>\n",
       "      <td>-87.525094</td>\n",
       "    </tr>\n",
       "  </tbody>\n",
       "</table>\n",
       "</div>"
      ],
      "text/plain": [
       "                Risk       Latitude      Longitude\n",
       "count  115239.000000  115239.000000  115239.000000\n",
       "mean        1.326391      41.878958     -87.676928\n",
       "std         0.586120       0.082133       0.059652\n",
       "min         1.000000      41.644670     -87.914428\n",
       "25%         1.000000      41.820583     -87.708361\n",
       "50%         1.000000      41.890944     -87.667042\n",
       "75%         2.000000      41.939486     -87.634649\n",
       "max         3.000000      42.021064     -87.525094"
      ]
     },
     "execution_count": 118,
     "metadata": {},
     "output_type": "execute_result"
    }
   ],
   "source": [
    "#table for numerical data\n",
    "data_.iloc[:, [5,14,15]].describe()"
   ]
  },
  {
   "cell_type": "code",
   "execution_count": 117,
   "metadata": {
    "collapsed": false
   },
   "outputs": [
    {
     "data": {
      "text/html": [
       "<div>\n",
       "<table border=\"1\" class=\"dataframe\">\n",
       "  <thead>\n",
       "    <tr style=\"text-align: right;\">\n",
       "      <th></th>\n",
       "      <th>Facility Type</th>\n",
       "      <th>Zip</th>\n",
       "      <th>Inspection Type</th>\n",
       "      <th>Results</th>\n",
       "      <th>Violations</th>\n",
       "    </tr>\n",
       "  </thead>\n",
       "  <tbody>\n",
       "    <tr>\n",
       "      <th>count</th>\n",
       "      <td>115239</td>\n",
       "      <td>115239</td>\n",
       "      <td>115239</td>\n",
       "      <td>115239</td>\n",
       "      <td>115239</td>\n",
       "    </tr>\n",
       "    <tr>\n",
       "      <th>unique</th>\n",
       "      <td>358</td>\n",
       "      <td>60</td>\n",
       "      <td>58</td>\n",
       "      <td>6</td>\n",
       "      <td>114231</td>\n",
       "    </tr>\n",
       "    <tr>\n",
       "      <th>top</th>\n",
       "      <td>Restaurant</td>\n",
       "      <td>60614</td>\n",
       "      <td>Canvass</td>\n",
       "      <td>Pass</td>\n",
       "      <td>18. NO EVIDENCE OF RODENT OR INSECT OUTER OPEN...</td>\n",
       "    </tr>\n",
       "    <tr>\n",
       "      <th>freq</th>\n",
       "      <td>78565</td>\n",
       "      <td>4191</td>\n",
       "      <td>59177</td>\n",
       "      <td>76382</td>\n",
       "      <td>31</td>\n",
       "    </tr>\n",
       "  </tbody>\n",
       "</table>\n",
       "</div>"
      ],
      "text/plain": [
       "       Facility Type     Zip Inspection Type Results  \\\n",
       "count         115239  115239          115239  115239   \n",
       "unique           358      60              58       6   \n",
       "top       Restaurant   60614         Canvass    Pass   \n",
       "freq           78565    4191           59177   76382   \n",
       "\n",
       "                                               Violations  \n",
       "count                                              115239  \n",
       "unique                                             114231  \n",
       "top     18. NO EVIDENCE OF RODENT OR INSECT OUTER OPEN...  \n",
       "freq                                                   31  "
      ]
     },
     "execution_count": 117,
     "metadata": {},
     "output_type": "execute_result"
    }
   ],
   "source": [
    "#table for categorical data\n",
    "data_.iloc[:, [4,9,11,12,13]].describe()"
   ]
  },
  {
   "cell_type": "code",
   "execution_count": 129,
   "metadata": {
    "collapsed": false
   },
   "outputs": [
    {
     "data": {
      "text/plain": [
       "Results\n",
       "Fail                  25022\n",
       "No Entry                261\n",
       "Not Ready                21\n",
       "Out of Business          32\n",
       "Pass                  76382\n",
       "Pass w/ Conditions    13521\n",
       "Name: Inspection ID, dtype: int64"
      ]
     },
     "execution_count": 129,
     "metadata": {},
     "output_type": "execute_result"
    }
   ],
   "source": [
    "data_.groupby(['Results']).count().iloc[:,0]"
   ]
  },
  {
   "cell_type": "code",
   "execution_count": 137,
   "metadata": {
    "collapsed": false
   },
   "outputs": [
    {
     "data": {
      "text/plain": [
       "Facility Type\n",
       "(convenience store)                       3.000000\n",
       "(gas station)                             3.000000\n",
       "1005 NURSING HOME                         1.000000\n",
       "1023                                      1.000000\n",
       "1023 CHILDERN'S SERVICE FACILITY          1.000000\n",
       "1023 CHILDERN'S SERVICE S FACILITY        1.000000\n",
       "1023 CHILDERN'S SERVICES FACILITY         1.000000\n",
       "1023 CHILDREN'S SERVICES FACILITY         1.000000\n",
       "1023-CHILDREN'S SERVICES FACILITY         1.000000\n",
       "1584-DAY CARE ABOVE 2 YEARS               1.000000\n",
       "A-Not-For-Profit Chef Training Program    1.000000\n",
       "AFTER SCHOOL PROGRAM                      1.222222\n",
       "ART GALLERY                               3.000000\n",
       "ART GALLERY W/WINE AND BEER               3.000000\n",
       "ASSISSTED LIVING                          1.000000\n",
       "ASSISTED LIVING                           1.000000\n",
       "Adult Family Care Center                  1.000000\n",
       "Airport Lounge                            2.000000\n",
       "Assisted Living                           1.000000\n",
       "BAKERY/ RESTAURANT                        2.000000\n",
       "BAKERY/DELI                               1.000000\n",
       "BAKERY/GROCERY                            2.000000\n",
       "BAKERY/RESTAURANT                         2.000000\n",
       "BANQUET                                   1.040000\n",
       "BANQUET FACILITY                          1.000000\n",
       "BANQUET HALL                              1.163934\n",
       "BANQUET ROOM                              1.000000\n",
       "BAR                                       3.000000\n",
       "BAR/GRILL                                 2.000000\n",
       "BEFORE AND AFTER SCHOOL PROGRAM           2.000000\n",
       "                                            ...   \n",
       "cooking school                            1.000000\n",
       "dollar store                              3.000000\n",
       "donut shop                                2.000000\n",
       "drug treatment facility                   2.000000\n",
       "employee kitchen                          1.000000\n",
       "fish market                               2.000000\n",
       "fitness center                            2.000000\n",
       "gas station                               3.000000\n",
       "grocery                                   3.000000\n",
       "grocery & restaurant                      1.000000\n",
       "grocery/butcher                           2.000000\n",
       "grocery/dollar store                      3.000000\n",
       "hooka lounge                              3.000000\n",
       "ice cream shop                            2.000000\n",
       "incubator                                 1.000000\n",
       "live butcher                              2.000000\n",
       "meat packing                              2.000000\n",
       "newsstand                                 3.000000\n",
       "night club                                3.000000\n",
       "pharmacy/grocery                          3.000000\n",
       "restaurant                                1.000000\n",
       "smoothie bar                              2.000000\n",
       "snack shop                                2.000000\n",
       "tavern                                    3.000000\n",
       "tavern/restaurant                         3.000000\n",
       "theater                                   3.000000\n",
       "video store                               3.000000\n",
       "warehouse                                 3.000000\n",
       "watermelon house                          3.000000\n",
       "weight loss program                       3.000000\n",
       "Name: Risk, dtype: float64"
      ]
     },
     "execution_count": 137,
     "metadata": {},
     "output_type": "execute_result"
    }
   ],
   "source": [
    "data_.groupby(['Facility Type'])['Risk'].mean()"
   ]
  },
  {
   "cell_type": "code",
   "execution_count": 138,
   "metadata": {
    "collapsed": false
   },
   "outputs": [
    {
     "data": {
      "text/plain": [
       "Zip\n",
       "60501    2.666667\n",
       "60601    1.205603\n",
       "60602    1.265476\n",
       "60603    1.196737\n",
       "60604    1.325407\n",
       "60605    1.251748\n",
       "60606    1.220696\n",
       "60607    1.169043\n",
       "60608    1.375038\n",
       "60609    1.429423\n",
       "60610    1.199602\n",
       "60611    1.183637\n",
       "60612    1.469231\n",
       "60613    1.275790\n",
       "60614    1.194226\n",
       "60615    1.387908\n",
       "60616    1.288984\n",
       "60617    1.409941\n",
       "60618    1.293348\n",
       "60619    1.563039\n",
       "60620    1.556005\n",
       "60621    1.692226\n",
       "60622    1.272357\n",
       "60623    1.427645\n",
       "60624    1.706856\n",
       "60625    1.284012\n",
       "60626    1.286249\n",
       "60628    1.513820\n",
       "60629    1.338805\n",
       "60630    1.245399\n",
       "60631    1.175599\n",
       "60632    1.307383\n",
       "60633    1.407960\n",
       "60634    1.260280\n",
       "60636    1.648875\n",
       "60637    1.455214\n",
       "60638    1.304579\n",
       "60639    1.349885\n",
       "60640    1.245997\n",
       "60641    1.273936\n",
       "60642    1.228615\n",
       "60643    1.376221\n",
       "60644    1.592062\n",
       "60645    1.308876\n",
       "60646    1.204793\n",
       "60647    1.290215\n",
       "60649    1.529915\n",
       "60651    1.616210\n",
       "60652    1.355301\n",
       "60653    1.380952\n",
       "60654    1.170984\n",
       "60655    1.341826\n",
       "60656    1.127310\n",
       "60657    1.194342\n",
       "60659    1.300935\n",
       "60660    1.278754\n",
       "60661    1.209016\n",
       "60666    1.379780\n",
       "60707    1.298762\n",
       "60827    1.481481\n",
       "Name: Risk, dtype: float64"
      ]
     },
     "execution_count": 138,
     "metadata": {},
     "output_type": "execute_result"
    }
   ],
   "source": [
    "data_.groupby(['Zip'])['Risk'].mean()"
   ]
  },
  {
   "cell_type": "code",
   "execution_count": null,
   "metadata": {
    "collapsed": true
   },
   "outputs": [],
   "source": []
  }
 ],
 "metadata": {
  "kernelspec": {
   "display_name": "Python 3",
   "language": "python",
   "name": "python3"
  },
  "language_info": {
   "codemirror_mode": {
    "name": "ipython",
    "version": 3
   },
   "file_extension": ".py",
   "mimetype": "text/x-python",
   "name": "python",
   "nbconvert_exporter": "python",
   "pygments_lexer": "ipython3",
   "version": "3.5.2"
  }
 },
 "nbformat": 4,
 "nbformat_minor": 0
}
